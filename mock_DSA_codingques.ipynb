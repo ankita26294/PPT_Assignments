{
 "cells": [
  {
   "cell_type": "code",
   "execution_count": 11,
   "id": "290bc44a",
   "metadata": {},
   "outputs": [
    {
     "name": "stdout",
     "output_type": "stream",
     "text": [
      "[1, 3, 12, 0, 0]\n",
      "[0]\n"
     ]
    }
   ],
   "source": [
    "# Move Zeroes\n",
    "# Given an integer array nums, move all 0's to the end of it while maintaining the relative order of the non-zero elements.\n",
    "\n",
    "# Note that you must do this in-place without making a copy of the array.\n",
    "\n",
    "# Example 1:\n",
    "# Input: nums = [0,1,0,3,12]\n",
    "# Output: [1,3,12,0,0]\n",
    "\n",
    "# Example 2:\n",
    "# Input: nums = [0]\n",
    "# Output: [0]\n",
    "\n",
    "# Constraints:\n",
    "# a. 1 <= nums.length <= 10^4\n",
    "# b. -2^31 <= nums[i] <= 2^31 - 1\n",
    "# Answer:\n",
    "def moveZeroes(nums):\n",
    "    \"\"\"\n",
    "    Moves all zeroes to the end of the array while maintaining the relative order of non-zero elements.\n",
    "    \"\"\"\n",
    "    n = len(nums)\n",
    "    left = 0  # Pointer to track the last non-zero element\n",
    "    \n",
    "    # Iterate through the array\n",
    "    for i in range(n):\n",
    "        if nums[i] != 0:\n",
    "            # Swap the non-zero element with the last non-zero element found\n",
    "            nums[i], nums[left] = nums[left], nums[i]\n",
    "            left += 1\n",
    "\n",
    "# Test cases\n",
    "nums1 = [0, 1, 0, 3, 12]\n",
    "moveZeroes(nums1)\n",
    "print(nums1)  # Output: [1, 3, 12, 0, 0]\n",
    "\n",
    "nums2 = [0]\n",
    "moveZeroes(nums2)\n",
    "print(nums2)  # Output: [0]\n"
   ]
  },
  {
   "cell_type": "code",
   "execution_count": null,
   "id": "49bc9b3d",
   "metadata": {},
   "outputs": [],
   "source": []
  },
  {
   "cell_type": "code",
   "execution_count": 12,
   "id": "3d30bf64",
   "metadata": {},
   "outputs": [
    {
     "name": "stdout",
     "output_type": "stream",
     "text": [
      "0\n",
      "2\n",
      "-1\n"
     ]
    }
   ],
   "source": [
    "# First Unique Character in a String\n",
    "\n",
    "# Given a string s, find the first non-repeating character in it and return its index. If it does not exist, return -1.\n",
    "\n",
    "# Example 1:\n",
    "# Input: s = \"leetcode\"\n",
    "# Output: 0\n",
    "\n",
    "# Example 2:\n",
    "# Input: s = \"loveleetcode\"\n",
    "# Output: 2\n",
    "\n",
    "# Example 3:\n",
    "# Input: s = \"aabb\"\n",
    "# Output: -1\n",
    "\n",
    "# Constraints:\n",
    "# a. 1 <= s.length <= 10^5\n",
    "# b. s consists of only lowercase English letters.\n",
    "# Answer:\n",
    "def firstUniqChar(s):\n",
    "    \"\"\"\n",
    "    Finds the index of the first non-repeating character in a string.\n",
    "    \"\"\"\n",
    "    char_count = {}  # Dictionary to store character count\n",
    "    \n",
    "    # Count the occurrence of each character\n",
    "    for char in s:\n",
    "        char_count[char] = char_count.get(char, 0) + 1\n",
    "    \n",
    "    # Find the first non-repeating character\n",
    "    for i in range(len(s)):\n",
    "        if char_count[s[i]] == 1:\n",
    "            return i\n",
    "    \n",
    "    return -1  # If no non-repeating character is found\n",
    "\n",
    "# Test cases\n",
    "s1 = \"leetcode\"\n",
    "print(firstUniqChar(s1))  \n",
    "\n",
    "s2 = \"loveleetcode\"\n",
    "print(firstUniqChar(s2))\n",
    "\n",
    "s3 = \"aabb\"\n",
    "print(firstUniqChar(s3))  \n"
   ]
  },
  {
   "cell_type": "code",
   "execution_count": null,
   "id": "1d966bae",
   "metadata": {},
   "outputs": [],
   "source": []
  }
 ],
 "metadata": {
  "kernelspec": {
   "display_name": "Python 3 (ipykernel)",
   "language": "python",
   "name": "python3"
  },
  "language_info": {
   "codemirror_mode": {
    "name": "ipython",
    "version": 3
   },
   "file_extension": ".py",
   "mimetype": "text/x-python",
   "name": "python",
   "nbconvert_exporter": "python",
   "pygments_lexer": "ipython3",
   "version": "3.9.13"
  }
 },
 "nbformat": 4,
 "nbformat_minor": 5
}
