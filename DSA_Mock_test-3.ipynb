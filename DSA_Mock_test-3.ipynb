{
 "cells": [
  {
   "cell_type": "markdown",
   "id": "9e68e3f8",
   "metadata": {},
   "source": [
    "## Q.1 Implement a stack using a list in Python. Include the necessary methods such as push, pop, and isEmpty."
   ]
  },
  {
   "cell_type": "code",
   "execution_count": 2,
   "id": "60af8135",
   "metadata": {},
   "outputs": [],
   "source": [
    "class Stack:\n",
    "    def __init__(self):\n",
    "        self.items = []\n",
    "\n",
    "    def push(self, item):\n",
    "        self.items.append(item)\n",
    "\n",
    "    def pop(self):\n",
    "        if not self.isEmpty():\n",
    "            return self.items.pop()\n",
    "        else:\n",
    "            raise IndexError(\"Stack is empty.\")\n",
    "\n",
    "    def isEmpty(self):\n",
    "        return len(self.items) == 0\n"
   ]
  },
  {
   "cell_type": "code",
   "execution_count": 3,
   "id": "304ed1a9",
   "metadata": {},
   "outputs": [
    {
     "name": "stdout",
     "output_type": "stream",
     "text": [
      "30\n",
      "20\n",
      "False\n",
      "10\n",
      "True\n"
     ]
    }
   ],
   "source": [
    "stack = Stack()\n",
    "stack.push(10)\n",
    "stack.push(20)\n",
    "stack.push(30)\n",
    "\n",
    "print(stack.pop())  # Output: 30\n",
    "print(stack.pop())  # Output: 20\n",
    "print(stack.isEmpty())  # Output: False\n",
    "print(stack.pop())  # Output: 10\n",
    "print(stack.isEmpty())  # Output: True\n"
   ]
  },
  {
   "cell_type": "markdown",
   "id": "32eb5a38",
   "metadata": {},
   "source": [
    "## Q.2.Implement a queue using a list in Python. Include the necessary methods such as enqueue, dequeue, and isEmpty."
   ]
  },
  {
   "cell_type": "code",
   "execution_count": 5,
   "id": "2e0a3085",
   "metadata": {},
   "outputs": [],
   "source": [
    "class Queue:\n",
    "    def __init__(self):\n",
    "        self.items = []\n",
    "\n",
    "    def enqueue(self, item):\n",
    "        self.items.append(item)\n",
    "\n",
    "    def dequeue(self):\n",
    "        if not self.isEmpty():\n",
    "            return self.items.pop(0)\n",
    "        else:\n",
    "            raise IndexError(\"Queue is empty.\")\n",
    "\n",
    "    def isEmpty(self):\n",
    "        return len(self.items) == 0\n"
   ]
  },
  {
   "cell_type": "code",
   "execution_count": 6,
   "id": "4ae4734e",
   "metadata": {},
   "outputs": [
    {
     "name": "stdout",
     "output_type": "stream",
     "text": [
      "10\n",
      "20\n",
      "False\n",
      "30\n",
      "True\n"
     ]
    }
   ],
   "source": [
    "queue = Queue()\n",
    "queue.enqueue(10)\n",
    "queue.enqueue(20)\n",
    "queue.enqueue(30)\n",
    "\n",
    "print(queue.dequeue())  # Output: 10\n",
    "print(queue.dequeue())  # Output: 20\n",
    "print(queue.isEmpty())  # Output: False\n",
    "print(queue.dequeue())  # Output: 30\n",
    "print(queue.isEmpty())  # Output: True\n"
   ]
  },
  {
   "cell_type": "code",
   "execution_count": null,
   "id": "b0c99084",
   "metadata": {},
   "outputs": [],
   "source": []
  }
 ],
 "metadata": {
  "kernelspec": {
   "display_name": "Python 3 (ipykernel)",
   "language": "python",
   "name": "python3"
  },
  "language_info": {
   "codemirror_mode": {
    "name": "ipython",
    "version": 3
   },
   "file_extension": ".py",
   "mimetype": "text/x-python",
   "name": "python",
   "nbconvert_exporter": "python",
   "pygments_lexer": "ipython3",
   "version": "3.9.13"
  }
 },
 "nbformat": 4,
 "nbformat_minor": 5
}
