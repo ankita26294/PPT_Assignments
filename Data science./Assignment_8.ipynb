{
 "cells": [
  {
   "cell_type": "code",
   "execution_count": null,
   "id": "a898ec79",
   "metadata": {},
   "outputs": [],
   "source": [
    "# Q.Choose a project from an internship portal and try to write a HLD and LLD based on the sample given in your portal for a respective project  . "
   ]
  },
  {
   "cell_type": "markdown",
   "id": "645d4eb1",
   "metadata": {},
   "source": [
    "## HLD"
   ]
  },
  {
   "cell_type": "code",
   "execution_count": null,
   "id": "0bb50b63",
   "metadata": {},
   "outputs": [],
   "source": [
    "https://github.com/ankita26294/Mushroom-Classification/blob/main/HLD.pdf"
   ]
  },
  {
   "cell_type": "markdown",
   "id": "53f0af1b",
   "metadata": {},
   "source": [
    "## LLD"
   ]
  },
  {
   "cell_type": "code",
   "execution_count": null,
   "id": "ef3cc9e9",
   "metadata": {},
   "outputs": [],
   "source": [
    "https://github.com/ankita26294/Mushroom-Classification/blob/main/LLD.pdf"
   ]
  }
 ],
 "metadata": {
  "kernelspec": {
   "display_name": "Python 3 (ipykernel)",
   "language": "python",
   "name": "python3"
  },
  "language_info": {
   "codemirror_mode": {
    "name": "ipython",
    "version": 3
   },
   "file_extension": ".py",
   "mimetype": "text/x-python",
   "name": "python",
   "nbconvert_exporter": "python",
   "pygments_lexer": "ipython3",
   "version": "3.9.13"
  }
 },
 "nbformat": 4,
 "nbformat_minor": 5
}
